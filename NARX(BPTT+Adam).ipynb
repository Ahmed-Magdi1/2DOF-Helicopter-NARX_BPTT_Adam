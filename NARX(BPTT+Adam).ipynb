{
  "nbformat": 4,
  "nbformat_minor": 0,
  "metadata": {
    "colab": {
      "provenance": [],
      "authorship_tag": "ABX9TyOvQqzdwJP79x178VhHx3kD",
      "include_colab_link": true
    },
    "kernelspec": {
      "name": "python3",
      "display_name": "Python 3"
    },
    "language_info": {
      "name": "python"
    }
  },
  "cells": [
    {
      "cell_type": "markdown",
      "metadata": {
        "id": "view-in-github",
        "colab_type": "text"
      },
      "source": [
        "<a href=\"https://colab.research.google.com/github/Ahmed-Magdi1/2DOF-Helicopter-NARX_BPTT_Adam/blob/main/NARX(BPTT%2BAdam).ipynb\" target=\"_parent\"><img src=\"https://colab.research.google.com/assets/colab-badge.svg\" alt=\"Open In Colab\"/></a>"
      ]
    },
    {
      "cell_type": "markdown",
      "source": [
        "# NARX Model"
      ],
      "metadata": {
        "id": "0llz0160HQs7"
      }
    },
    {
      "cell_type": "markdown",
      "source": [
        "## Import Libraries"
      ],
      "metadata": {
        "id": "KnHo4aPcHYt9"
      }
    },
    {
      "cell_type": "code",
      "execution_count": 1,
      "metadata": {
        "id": "2CKcsPOVGMBo"
      },
      "outputs": [],
      "source": [
        "import pandas as pd\n",
        "import numpy as np\n",
        "import time\n",
        "import matplotlib.pyplot as plt\n",
        "from sklearn.preprocessing import MinMaxScaler\n",
        "from sklearn.model_selection import train_test_split\n",
        "from tensorflow.keras.models import Sequential\n",
        "from tensorflow.keras.layers import Dense\n",
        "from tensorflow.keras.optimizers import Adam\n",
        "from sklearn.metrics import mean_squared_error, mean_absolute_error, r2_score"
      ]
    },
    {
      "cell_type": "markdown",
      "source": [
        "## Load the Dataset"
      ],
      "metadata": {
        "id": "LnWQM3kzHiT0"
      }
    },
    {
      "cell_type": "code",
      "source": [
        "# Load input and output CSV files\n",
        "inputs = pd.read_csv('input.csv')  # Columns: V, I_pitch, I_yaw\n",
        "outputs = pd.read_csv('output.csv')  # Columns: pitch_angle, yaw_angle\n",
        "\n",
        "# Convert to NumPy arrays\n",
        "X = inputs.values  # Shape: (samples, features)\n",
        "Y = outputs.values  # Shape: (samples, targets)"
      ],
      "metadata": {
        "id": "eG2BDKcWHjdC"
      },
      "execution_count": 2,
      "outputs": []
    },
    {
      "cell_type": "markdown",
      "source": [
        "## Normalize the Data"
      ],
      "metadata": {
        "id": "JD26YN1LHvxR"
      }
    },
    {
      "cell_type": "code",
      "source": [
        "# Create scalers for inputs and outputs\n",
        "scaler_X = MinMaxScaler()\n",
        "scaler_Y = MinMaxScaler()\n",
        "\n",
        "# Fit and transform the data\n",
        "X_scaled = scaler_X.fit_transform(X)\n",
        "Y_scaled = scaler_Y.fit_transform(Y)"
      ],
      "metadata": {
        "id": "WsXVSyRLHy7y"
      },
      "execution_count": 3,
      "outputs": []
    },
    {
      "cell_type": "markdown",
      "source": [
        "## Create Lagged Data for NARX"
      ],
      "metadata": {
        "id": "vL5XfC9SH2yG"
      }
    },
    {
      "cell_type": "code",
      "source": [
        "def create_lagged_data(inputs, outputs, input_lag, output_lag):\n",
        "    X_lagged, Y_lagged = [], []\n",
        "    for t in range(max(input_lag, output_lag), len(inputs)):\n",
        "        x_lagged = inputs[t-input_lag:t].flatten()  # Past inputs\n",
        "        y_lagged = outputs[t-output_lag:t-1].flatten()  # Past outputs\n",
        "        X_lagged.append(np.hstack((x_lagged, y_lagged)))  # Combine input-output lags\n",
        "        Y_lagged.append(outputs[t])  # Current output\n",
        "    return np.array(X_lagged), np.array(Y_lagged)\n",
        "\n",
        "# Define lags\n",
        "input_lag = 3  # Number of past input time steps\n",
        "output_lag = 2  # Number of past output time steps\n",
        "\n",
        "# Generate lagged data\n",
        "X_lagged, Y_lagged = create_lagged_data(X_scaled, Y_scaled, input_lag, output_lag)"
      ],
      "metadata": {
        "id": "9WScex3bH511"
      },
      "execution_count": 4,
      "outputs": []
    },
    {
      "cell_type": "markdown",
      "source": [
        "## Split Data into Training and Testing Sets"
      ],
      "metadata": {
        "id": "BXk2agDKH9n8"
      }
    },
    {
      "cell_type": "code",
      "source": [
        "# Split data into train, validation, and test sets\n",
        "X_train, X_test, Y_train, Y_test = train_test_split(X_lagged, Y_lagged, test_size=0.2, random_state=42)\n",
        "X_train, X_val, Y_train, Y_val = train_test_split(X_train, Y_train, test_size=0.2, random_state=42)"
      ],
      "metadata": {
        "id": "N_in7Ap5IBcj"
      },
      "execution_count": 5,
      "outputs": []
    },
    {
      "cell_type": "markdown",
      "source": [
        "## Define the NARX Neural Network"
      ],
      "metadata": {
        "id": "PTZ7PlwWIEcB"
      }
    },
    {
      "cell_type": "code",
      "source": [
        "# Define the NARX model\n",
        "model = Sequential([\n",
        "    Dense(64, activation='relu', input_dim=X_train.shape[1]),  # Input layer\n",
        "    Dense(128, activation='relu'),  # Hidden layer 1\n",
        "    Dense(Y_train.shape[1], activation='linear')  # Output layer\n",
        "])\n",
        "\n",
        "# Compile the model with Adam optimizer (BPTT training)\n",
        "model.compile(optimizer=Adam(learning_rate=0.001), loss='mse', metrics=['mae'])\n",
        "model.summary()"
      ],
      "metadata": {
        "colab": {
          "base_uri": "https://localhost:8080/",
          "height": 280
        },
        "id": "JgfVbgl0IIBZ",
        "outputId": "9c1ea8df-53a5-4c79-cebf-4420dcc98928"
      },
      "execution_count": 6,
      "outputs": [
        {
          "output_type": "stream",
          "name": "stderr",
          "text": [
            "/usr/local/lib/python3.11/dist-packages/keras/src/layers/core/dense.py:87: UserWarning: Do not pass an `input_shape`/`input_dim` argument to a layer. When using Sequential models, prefer using an `Input(shape)` object as the first layer in the model instead.\n",
            "  super().__init__(activity_regularizer=activity_regularizer, **kwargs)\n"
          ]
        },
        {
          "output_type": "display_data",
          "data": {
            "text/plain": [
              "\u001b[1mModel: \"sequential\"\u001b[0m\n"
            ],
            "text/html": [
              "<pre style=\"white-space:pre;overflow-x:auto;line-height:normal;font-family:Menlo,'DejaVu Sans Mono',consolas,'Courier New',monospace\"><span style=\"font-weight: bold\">Model: \"sequential\"</span>\n",
              "</pre>\n"
            ]
          },
          "metadata": {}
        },
        {
          "output_type": "display_data",
          "data": {
            "text/plain": [
              "┏━━━━━━━━━━━━━━━━━━━━━━━━━━━━━━━━━━━━━━┳━━━━━━━━━━━━━━━━━━━━━━━━━━━━━┳━━━━━━━━━━━━━━━━━┓\n",
              "┃\u001b[1m \u001b[0m\u001b[1mLayer (type)                        \u001b[0m\u001b[1m \u001b[0m┃\u001b[1m \u001b[0m\u001b[1mOutput Shape               \u001b[0m\u001b[1m \u001b[0m┃\u001b[1m \u001b[0m\u001b[1m        Param #\u001b[0m\u001b[1m \u001b[0m┃\n",
              "┡━━━━━━━━━━━━━━━━━━━━━━━━━━━━━━━━━━━━━━╇━━━━━━━━━━━━━━━━━━━━━━━━━━━━━╇━━━━━━━━━━━━━━━━━┩\n",
              "│ dense (\u001b[38;5;33mDense\u001b[0m)                        │ (\u001b[38;5;45mNone\u001b[0m, \u001b[38;5;34m64\u001b[0m)                  │             \u001b[38;5;34m768\u001b[0m │\n",
              "├──────────────────────────────────────┼─────────────────────────────┼─────────────────┤\n",
              "│ dense_1 (\u001b[38;5;33mDense\u001b[0m)                      │ (\u001b[38;5;45mNone\u001b[0m, \u001b[38;5;34m128\u001b[0m)                 │           \u001b[38;5;34m8,320\u001b[0m │\n",
              "├──────────────────────────────────────┼─────────────────────────────┼─────────────────┤\n",
              "│ dense_2 (\u001b[38;5;33mDense\u001b[0m)                      │ (\u001b[38;5;45mNone\u001b[0m, \u001b[38;5;34m2\u001b[0m)                   │             \u001b[38;5;34m258\u001b[0m │\n",
              "└──────────────────────────────────────┴─────────────────────────────┴─────────────────┘\n"
            ],
            "text/html": [
              "<pre style=\"white-space:pre;overflow-x:auto;line-height:normal;font-family:Menlo,'DejaVu Sans Mono',consolas,'Courier New',monospace\">┏━━━━━━━━━━━━━━━━━━━━━━━━━━━━━━━━━━━━━━┳━━━━━━━━━━━━━━━━━━━━━━━━━━━━━┳━━━━━━━━━━━━━━━━━┓\n",
              "┃<span style=\"font-weight: bold\"> Layer (type)                         </span>┃<span style=\"font-weight: bold\"> Output Shape                </span>┃<span style=\"font-weight: bold\">         Param # </span>┃\n",
              "┡━━━━━━━━━━━━━━━━━━━━━━━━━━━━━━━━━━━━━━╇━━━━━━━━━━━━━━━━━━━━━━━━━━━━━╇━━━━━━━━━━━━━━━━━┩\n",
              "│ dense (<span style=\"color: #0087ff; text-decoration-color: #0087ff\">Dense</span>)                        │ (<span style=\"color: #00d7ff; text-decoration-color: #00d7ff\">None</span>, <span style=\"color: #00af00; text-decoration-color: #00af00\">64</span>)                  │             <span style=\"color: #00af00; text-decoration-color: #00af00\">768</span> │\n",
              "├──────────────────────────────────────┼─────────────────────────────┼─────────────────┤\n",
              "│ dense_1 (<span style=\"color: #0087ff; text-decoration-color: #0087ff\">Dense</span>)                      │ (<span style=\"color: #00d7ff; text-decoration-color: #00d7ff\">None</span>, <span style=\"color: #00af00; text-decoration-color: #00af00\">128</span>)                 │           <span style=\"color: #00af00; text-decoration-color: #00af00\">8,320</span> │\n",
              "├──────────────────────────────────────┼─────────────────────────────┼─────────────────┤\n",
              "│ dense_2 (<span style=\"color: #0087ff; text-decoration-color: #0087ff\">Dense</span>)                      │ (<span style=\"color: #00d7ff; text-decoration-color: #00d7ff\">None</span>, <span style=\"color: #00af00; text-decoration-color: #00af00\">2</span>)                   │             <span style=\"color: #00af00; text-decoration-color: #00af00\">258</span> │\n",
              "└──────────────────────────────────────┴─────────────────────────────┴─────────────────┘\n",
              "</pre>\n"
            ]
          },
          "metadata": {}
        },
        {
          "output_type": "display_data",
          "data": {
            "text/plain": [
              "\u001b[1m Total params: \u001b[0m\u001b[38;5;34m9,346\u001b[0m (36.51 KB)\n"
            ],
            "text/html": [
              "<pre style=\"white-space:pre;overflow-x:auto;line-height:normal;font-family:Menlo,'DejaVu Sans Mono',consolas,'Courier New',monospace\"><span style=\"font-weight: bold\"> Total params: </span><span style=\"color: #00af00; text-decoration-color: #00af00\">9,346</span> (36.51 KB)\n",
              "</pre>\n"
            ]
          },
          "metadata": {}
        },
        {
          "output_type": "display_data",
          "data": {
            "text/plain": [
              "\u001b[1m Trainable params: \u001b[0m\u001b[38;5;34m9,346\u001b[0m (36.51 KB)\n"
            ],
            "text/html": [
              "<pre style=\"white-space:pre;overflow-x:auto;line-height:normal;font-family:Menlo,'DejaVu Sans Mono',consolas,'Courier New',monospace\"><span style=\"font-weight: bold\"> Trainable params: </span><span style=\"color: #00af00; text-decoration-color: #00af00\">9,346</span> (36.51 KB)\n",
              "</pre>\n"
            ]
          },
          "metadata": {}
        },
        {
          "output_type": "display_data",
          "data": {
            "text/plain": [
              "\u001b[1m Non-trainable params: \u001b[0m\u001b[38;5;34m0\u001b[0m (0.00 B)\n"
            ],
            "text/html": [
              "<pre style=\"white-space:pre;overflow-x:auto;line-height:normal;font-family:Menlo,'DejaVu Sans Mono',consolas,'Courier New',monospace\"><span style=\"font-weight: bold\"> Non-trainable params: </span><span style=\"color: #00af00; text-decoration-color: #00af00\">0</span> (0.00 B)\n",
              "</pre>\n"
            ]
          },
          "metadata": {}
        }
      ]
    },
    {
      "cell_type": "markdown",
      "source": [
        "## Train the Model Using BPTT + Adam"
      ],
      "metadata": {
        "id": "JjUtQ-KaILsO"
      }
    },
    {
      "cell_type": "code",
      "source": [
        "# Train the model\n",
        "start_time = time.time()\n",
        "history = model.fit(\n",
        "    X_train, Y_train,\n",
        "    validation_data=(X_val, Y_val),\n",
        "    epochs=5,\n",
        "    batch_size=16,\n",
        "    verbose=1\n",
        ")\n",
        "training_time = time.time() - start_time  # Record training time"
      ],
      "metadata": {
        "colab": {
          "base_uri": "https://localhost:8080/"
        },
        "id": "jDN71DB-IOmc",
        "outputId": "ead0d138-bb04-4554-bb18-7fba65d8da43"
      },
      "execution_count": 7,
      "outputs": [
        {
          "output_type": "stream",
          "name": "stdout",
          "text": [
            "Epoch 1/5\n",
            "\u001b[1m2147/2147\u001b[0m \u001b[32m━━━━━━━━━━━━━━━━━━━━\u001b[0m\u001b[37m\u001b[0m \u001b[1m9s\u001b[0m 3ms/step - loss: 0.0075 - mae: 0.0250 - val_loss: 6.7210e-05 - val_mae: 0.0049\n",
            "Epoch 2/5\n",
            "\u001b[1m2147/2147\u001b[0m \u001b[32m━━━━━━━━━━━━━━━━━━━━\u001b[0m\u001b[37m\u001b[0m \u001b[1m6s\u001b[0m 3ms/step - loss: 3.6561e-05 - mae: 0.0033 - val_loss: 3.3827e-05 - val_mae: 0.0036\n",
            "Epoch 3/5\n",
            "\u001b[1m2147/2147\u001b[0m \u001b[32m━━━━━━━━━━━━━━━━━━━━\u001b[0m\u001b[37m\u001b[0m \u001b[1m6s\u001b[0m 3ms/step - loss: 2.4753e-05 - mae: 0.0030 - val_loss: 4.2674e-05 - val_mae: 0.0039\n",
            "Epoch 4/5\n",
            "\u001b[1m2147/2147\u001b[0m \u001b[32m━━━━━━━━━━━━━━━━━━━━\u001b[0m\u001b[37m\u001b[0m \u001b[1m9s\u001b[0m 3ms/step - loss: 2.6545e-05 - mae: 0.0034 - val_loss: 3.2653e-05 - val_mae: 0.0038\n",
            "Epoch 5/5\n",
            "\u001b[1m2147/2147\u001b[0m \u001b[32m━━━━━━━━━━━━━━━━━━━━\u001b[0m\u001b[37m\u001b[0m \u001b[1m10s\u001b[0m 3ms/step - loss: 2.3988e-05 - mae: 0.0032 - val_loss: 4.4461e-05 - val_mae: 0.0058\n"
          ]
        }
      ]
    },
    {
      "cell_type": "markdown",
      "source": [
        "## Evaluate the Model"
      ],
      "metadata": {
        "id": "eG0XaxO_Ie4g"
      }
    },
    {
      "cell_type": "code",
      "source": [
        "# Evaluate on test set\n",
        "loss, mae = model.evaluate(X_test, Y_test)\n",
        "print(f\"Test Loss: {loss}, Test MAE: {mae}\")"
      ],
      "metadata": {
        "colab": {
          "base_uri": "https://localhost:8080/"
        },
        "id": "-MofQRrHIgXG",
        "outputId": "c8f723a0-9e4f-444a-b0de-208e09f06554"
      },
      "execution_count": 8,
      "outputs": [
        {
          "output_type": "stream",
          "name": "stdout",
          "text": [
            "\u001b[1m336/336\u001b[0m \u001b[32m━━━━━━━━━━━━━━━━━━━━\u001b[0m\u001b[37m\u001b[0m \u001b[1m1s\u001b[0m 2ms/step - loss: 4.4412e-05 - mae: 0.0058\n",
            "Test Loss: 4.463505683816038e-05, Test MAE: 0.005772887729108334\n"
          ]
        }
      ]
    },
    {
      "cell_type": "markdown",
      "source": [
        "## Make Predictions"
      ],
      "metadata": {
        "id": "4zOHs0AYIj4O"
      }
    },
    {
      "cell_type": "code",
      "source": [
        "# Predict on test set\n",
        "Y_pred_scaled = model.predict(X_test)\n",
        "\n",
        "# Inverse transform predictions to original scale\n",
        "Y_pred = scaler_Y.inverse_transform(Y_pred_scaled)\n",
        "Y_actual = scaler_Y.inverse_transform(Y_test)"
      ],
      "metadata": {
        "colab": {
          "base_uri": "https://localhost:8080/"
        },
        "id": "vGw1fP4qImiD",
        "outputId": "ed2afabc-d2d9-4e3c-de00-71883083bef4"
      },
      "execution_count": 9,
      "outputs": [
        {
          "output_type": "stream",
          "name": "stdout",
          "text": [
            "\u001b[1m336/336\u001b[0m \u001b[32m━━━━━━━━━━━━━━━━━━━━\u001b[0m\u001b[37m\u001b[0m \u001b[1m1s\u001b[0m 1ms/step\n"
          ]
        }
      ]
    },
    {
      "cell_type": "markdown",
      "source": [
        "## Compare Predictions with Actual Values"
      ],
      "metadata": {
        "id": "DJy68kpOIpz8"
      }
    },
    {
      "cell_type": "code",
      "source": [
        "# Create a DataFrame for comparison\n",
        "comparison = pd.DataFrame({\n",
        "    'Predicted Pitch': Y_pred[:, 0],\n",
        "    'Actual Pitch': Y_actual[:, 0],\n",
        "    'Predicted Yaw': Y_pred[:, 1],\n",
        "    'Actual Yaw': Y_actual[:, 1]\n",
        "})\n",
        "\n",
        "# Print first few rows\n",
        "print(comparison.head(30))"
      ],
      "metadata": {
        "colab": {
          "base_uri": "https://localhost:8080/"
        },
        "id": "o4xWtjILIucr",
        "outputId": "fffbba06-91c0-428b-aa43-88efb83053e1"
      },
      "execution_count": 10,
      "outputs": [
        {
          "output_type": "stream",
          "name": "stdout",
          "text": [
            "    Predicted Pitch  Actual Pitch  Predicted Yaw  Actual Yaw\n",
            "0         61.198578         61.00     -35.582180      -35.25\n",
            "1         60.979996         60.75     -33.055679      -33.00\n",
            "2         60.985012         60.75     -30.306940      -30.00\n",
            "3         60.977692         60.75     -33.309254      -33.00\n",
            "4         60.972355         60.75     -36.551674      -36.00\n",
            "5         60.989376         60.75     -30.820665      -30.50\n",
            "6         60.976780         60.75     -33.849247      -33.50\n",
            "7         61.192177         61.00     -38.312634      -38.00\n",
            "8         60.943737         60.75     -34.319023      -34.00\n",
            "9         60.973030         60.75     -34.551132      -34.25\n",
            "10        61.212154         61.00     -26.325518      -25.75\n",
            "11        60.999802         60.75     -30.821991      -30.25\n",
            "12        61.212189         61.00     -32.331852      -32.00\n",
            "13        60.967503         60.75     -32.557388      -32.25\n",
            "14        61.207893         61.00     -34.326263      -34.25\n",
            "15        61.211956         61.00     -31.805571      -31.50\n",
            "16        60.977211         60.75     -30.561346      -30.25\n",
            "17        61.187225         61.00     -34.565472      -34.25\n",
            "18        61.184738         61.00     -34.803459      -34.50\n",
            "19        60.982533         60.75     -29.063768      -28.75\n",
            "20        60.967503         60.75     -34.560352      -34.25\n",
            "21        61.188129         61.00     -34.007015      -33.75\n",
            "22        60.984699         60.75     -34.318680      -34.00\n",
            "23        60.972504         60.75     -32.827240      -32.50\n",
            "24        60.976440         60.75     -34.346146      -34.00\n",
            "25        60.971741         60.75     -28.515974      -28.25\n",
            "26        60.993382         60.75     -32.594654      -32.25\n",
            "27        60.988041         60.75     -32.327862      -32.00\n",
            "28        60.999783         60.75     -29.328499      -29.00\n",
            "29        61.200497         61.00     -33.063774      -32.75\n"
          ]
        }
      ]
    },
    {
      "cell_type": "markdown",
      "source": [
        "## Visualize Results"
      ],
      "metadata": {
        "id": "Eeds237FIyuw"
      }
    },
    {
      "cell_type": "code",
      "source": [
        "# Plot Predictions vs Actual\n",
        "plt.figure(figsize=(12, 5))\n",
        "\n",
        "# Pitch angle comparison\n",
        "plt.subplot(1, 2, 1)\n",
        "plt.plot(Y_actual[:, 0], label='Actual Pitch')\n",
        "plt.plot(Y_pred[:, 0], label='Predicted Pitch')\n",
        "plt.legend()\n",
        "plt.title('Pitch Angle: Predicted vs Actual')\n",
        "\n",
        "# Yaw angle comparison\n",
        "plt.subplot(1, 2, 2)\n",
        "plt.plot(Y_actual[:, 1], label='Actual Yaw')\n",
        "plt.plot(Y_pred[:, 1], label='Predicted Yaw')\n",
        "plt.legend()\n",
        "plt.title('Yaw Angle: Predicted vs Actual')\n",
        "\n",
        "plt.show()"
      ],
      "metadata": {
        "colab": {
          "base_uri": "https://localhost:8080/",
          "height": 468
        },
        "id": "TGesmouKIziG",
        "outputId": "218d9b42-0a4b-4b00-9af3-b103210ab2ed"
      },
      "execution_count": 11,
      "outputs": [
        {
          "output_type": "display_data",
          "data": {
            "text/plain": [
              "<Figure size 1200x500 with 2 Axes>"
            ],
            "image/png": "[encoded data removed]"
          },
          "metadata": {}
        }
      ]
    },
    {
      "cell_type": "markdown",
      "source": [
        "## Save Model and Results"
      ],
      "metadata": {
        "id": "x6ua13s5I3m1"
      }
    },
    {
      "cell_type": "code",
      "source": [
        "# Save trained model\n",
        "model.save('NARX_helicopter_model.h5')\n",
        "print(\"Model saved successfully.\")\n",
        "\n",
        "# Save results to Excel\n",
        "narx_results = {\n",
        "    \"Model\": \"NARX\",\n",
        "    \"MSE\": mean_squared_error(Y_actual, Y_pred),\n",
        "    \"RMSE\": np.sqrt(mean_squared_error(Y_actual, Y_pred)),\n",
        "    \"MAE\": mean_absolute_error(Y_actual, Y_pred),\n",
        "    \"R²\": r2_score(Y_actual, Y_pred),\n",
        "    \"Training Time (s)\": training_time\n",
        "}\n",
        "\n",
        "df_results = pd.DataFrame([narx_results])\n",
        "df_results.to_excel(\"model_performance.xlsx\", index=False)\n",
        "\n",
        "# Download file in Google Colab\n",
        "from google.colab import files\n",
        "files.download(\"model_performance.xlsx\")"
      ],
      "metadata": {
        "colab": {
          "base_uri": "https://localhost:8080/",
          "height": 72
        },
        "id": "-JtCT0GdI43J",
        "outputId": "20788be8-e80c-45e4-a911-b3506202ffcd"
      },
      "execution_count": 12,
      "outputs": [
        {
          "output_type": "stream",
          "name": "stderr",
          "text": [
            "WARNING:absl:You are saving your model as an HDF5 file via `model.save()` or `keras.saving.save_model(model)`. This file format is considered legacy. We recommend using instead the native Keras format, e.g. `model.save('my_model.keras')` or `keras.saving.save_model(model, 'my_model.keras')`. \n"
          ]
        },
        {
          "output_type": "stream",
          "name": "stdout",
          "text": [
            "Model saved successfully.\n"
          ]
        },
        {
          "output_type": "display_data",
          "data": {
            "text/plain": [
              "<IPython.core.display.Javascript object>"
            ],
            "application/javascript": [
              "\n",
              "    async function download(id, filename, size) {\n",
              "      if (!google.colab.kernel.accessAllowed) {\n",
              "        return;\n",
              "      }\n",
              "      const div = document.createElement('div');\n",
              "      const label = document.createElement('label');\n",
              "      label.textContent = `Downloading \"${filename}\": `;\n",
              "      div.appendChild(label);\n",
              "      const progress = document.createElement('progress');\n",
              "      progress.max = size;\n",
              "      div.appendChild(progress);\n",
              "      document.body.appendChild(div);\n",
              "\n",
              "      const buffers = [];\n",
              "      let downloaded = 0;\n",
              "\n",
              "      const channel = await google.colab.kernel.comms.open(id);\n",
              "      // Send a message to notify the kernel that we're ready.\n",
              "      channel.send({})\n",
              "\n",
              "      for await (const message of channel.messages) {\n",
              "        // Send a message to notify the kernel that we're ready.\n",
              "        channel.send({})\n",
              "        if (message.buffers) {\n",
              "          for (const buffer of message.buffers) {\n",
              "            buffers.push(buffer);\n",
              "            downloaded += buffer.byteLength;\n",
              "            progress.value = downloaded;\n",
              "          }\n",
              "        }\n",
              "      }\n",
              "      const blob = new Blob(buffers, {type: 'application/binary'});\n",
              "      const a = document.createElement('a');\n",
              "      a.href = window.URL.createObjectURL(blob);\n",
              "      a.download = filename;\n",
              "      div.appendChild(a);\n",
              "      a.click();\n",
              "      div.remove();\n",
              "    }\n",
              "  "
            ]
          },
          "metadata": {}
        },
        {
          "output_type": "display_data",
          "data": {
            "text/plain": [
              "<IPython.core.display.Javascript object>"
            ],
            "application/javascript": [
              "download(\"download_aab6bc8a-e89e-4238-89c3-cb00bfb3642f\", \"model_performance.xlsx\", 5085)"
            ]
          },
          "metadata": {}
        }
      ]
    }
  ]
}