{
  "nbformat": 4,
  "nbformat_minor": 0,
  "metadata": {
    "colab": {
      "provenance": [],
      "authorship_tag": "ABX9TyO+Xpt7qmzSEYP95RGn/q9s",
      "include_colab_link": true
    },
    "kernelspec": {
      "name": "python3",
      "display_name": "Python 3"
    },
    "language_info": {
      "name": "python"
    }
  },
  "cells": [
    {
      "cell_type": "markdown",
      "metadata": {
        "id": "view-in-github",
        "colab_type": "text"
      },
      "source": [
        "<a href=\"https://colab.research.google.com/github/Ahmed-Magdi1/2DOF-Helicopter-NARX_BPTT_Adam/blob/v.1/NARX_update.ipynb\" target=\"_parent\"><img src=\"https://colab.research.google.com/assets/colab-badge.svg\" alt=\"Open In Colab\"/></a>"
      ]
    },
    {
      "cell_type": "markdown",
      "source": [
        "## Import necessary libraries"
      ],
      "metadata": {
        "id": "gokyyKmSxLwY"
      }
    },
    {
      "cell_type": "code",
      "source": [
        "import numpy as np\n",
        "import pandas as pd\n",
        "import matplotlib.pyplot as plt\n",
        "\n",
        "from tensorflow.keras.models import Sequential\n",
        "from tensorflow.keras.layers import Dense\n",
        "from tensorflow.keras.optimizers import Adam\n",
        "from sklearn.model_selection import train_test_split"
      ],
      "metadata": {
        "id": "nPtm5Usbxh01"
      },
      "execution_count": 8,
      "outputs": []
    },
    {
      "cell_type": "markdown",
      "source": [
        "## 1. Load the Data\n"
      ],
      "metadata": {
        "id": "U0shKya8xjB2"
      }
    },
    {
      "cell_type": "code",
      "source": [
        "# Load sensor data (exogenous inputs)\n",
        "df_inputs = pd.read_csv('inputs.csv')  # Expected columns: Voltage, Pitch_Current, Yaw_Current, Pitch_PWM, Yaw_PWM\n",
        "\n",
        "# Load encoder data (system outputs)\n",
        "df_outputs = pd.read_csv('outputs.csv')  # Expected columns: Pitch_Angle, Yaw_Angle"
      ],
      "metadata": {
        "id": "7mLNta4Hxljd"
      },
      "execution_count": 9,
      "outputs": []
    },
    {
      "cell_type": "code",
      "source": [
        "# Quick check of the data\n",
        "print(\"Sensor Data (Inputs):\")\n",
        "print(df_inputs.head())\n",
        "print(\"\\nEncoder Data (Outputs):\")\n",
        "print(df_outputs.head())"
      ],
      "metadata": {
        "colab": {
          "base_uri": "https://localhost:8080/"
        },
        "id": "pInt_mFSx33h",
        "outputId": "822637a9-feb8-4406-e34f-04e3ea03c354"
      },
      "execution_count": 10,
      "outputs": [
        {
          "output_type": "stream",
          "name": "stdout",
          "text": [
            "Sensor Data (Inputs):\n",
            "   Voltage  Pitch_Current  Yaw_Current  Pitch_PWM  Yaw_PWM\n",
            "0    12.91            0.0          0.0       1500     1214\n",
            "1    12.91            0.0          0.0       1500     1204\n",
            "2    12.91            0.0          0.0       1500     1193\n",
            "3    12.91            0.0          0.0       1500     1186\n",
            "4    12.91            0.0          0.0       1500     1186\n",
            "\n",
            "Encoder Data (Outputs):\n",
            "   Pitch_Angle  Yaw_Angle\n",
            "0          0.0        0.0\n",
            "1          0.0        0.0\n",
            "2          0.0        0.0\n",
            "3          0.0        0.0\n",
            "4          0.0        0.0\n"
          ]
        }
      ]
    },
    {
      "cell_type": "code",
      "source": [
        "# Ensure both dataframes have the same number of rows\n",
        "assert len(df_inputs) == len(df_outputs), \"The number of samples in the two files must match!\"\n",
        "\n",
        "# Extract arrays from the DataFrames\n",
        "# u: Exogenous inputs [Voltage, Pitch_Current, Yaw_Current, Pitch_PWM, Yaw_PWM]\n",
        "u = df_inputs[['Voltage', 'Pitch_Current', 'Yaw_Current', 'Pitch_PWM', 'Yaw_PWM']].values  # Shape: (N, 5)\n",
        "# y: Outputs [Pitch_Angle, Yaw_Angle]\n",
        "y = df_outputs[['Pitch_Angle', 'Yaw_Angle']].values  # Shape: (N, 2)"
      ],
      "metadata": {
        "id": "qtFLx3cUx-FB"
      },
      "execution_count": 11,
      "outputs": []
    },
    {
      "cell_type": "markdown",
      "source": [
        "## 2. Create the NARX Dataset"
      ],
      "metadata": {
        "id": "e6MlMBkFy5f7"
      }
    },
    {
      "cell_type": "code",
      "source": [
        "# We'll choose a lag order (number of past time steps) for both inputs and outputs.\n",
        "lag_order = 3  # You can adjust this based on your system dynamics\n",
        "\n",
        "def create_narx_dataset(y, u, lag):\n",
        "    \"\"\"\n",
        "    Create a dataset for a NARX model.\n",
        "    For each time step t, features are formed from:\n",
        "      [y(t-1), y(t-2), ..., y(t-lag), u(t-1), u(t-2), ..., u(t-lag)]\n",
        "    and the target is y(t).\n",
        "    \"\"\"\n",
        "    X, Y_target = [], []\n",
        "    for t in range(lag, len(y)):\n",
        "        # Flatten lagged outputs and inputs into one feature vector\n",
        "        past_y = y[t-lag:t].flatten()  # Shape: (lag * 2,)\n",
        "        past_u = u[t-lag:t].flatten()  # Shape: (lag * 5,)\n",
        "        features = np.concatenate([past_y, past_u])\n",
        "        X.append(features)\n",
        "        Y_target.append(y[t])\n",
        "    return np.array(X), np.array(Y_target)\n",
        "\n",
        "X, Y_target = create_narx_dataset(y, u, lag_order)\n",
        "print(\"\\nFeature matrix shape:\", X.shape)  # Expected shape: (samples, lag*(2+5))\n",
        "print(\"Target matrix shape:\", Y_target.shape)  # Expected shape: (samples, 2)"
      ],
      "metadata": {
        "colab": {
          "base_uri": "https://localhost:8080/"
        },
        "id": "tvS-i3bhy-Z6",
        "outputId": "1a19b88d-cb6c-4ad9-b9ed-e45321999783"
      },
      "execution_count": 12,
      "outputs": [
        {
          "output_type": "stream",
          "name": "stdout",
          "text": [
            "\n",
            "Feature matrix shape: (57638, 21)\n",
            "Target matrix shape: (57638, 2)\n"
          ]
        }
      ]
    },
    {
      "cell_type": "markdown",
      "source": [
        "## 3. Split the Data"
      ],
      "metadata": {
        "id": "qrTsR2VTzOEC"
      }
    },
    {
      "cell_type": "code",
      "source": [
        "X_train, X_test, Y_train, Y_test = train_test_split(X, Y_target, test_size=0.2, random_state=42)"
      ],
      "metadata": {
        "id": "p0tmidewzTcq"
      },
      "execution_count": 13,
      "outputs": []
    },
    {
      "cell_type": "markdown",
      "source": [
        "## 4. Build and Train the Model"
      ],
      "metadata": {
        "id": "zfuGvfbnzWR0"
      }
    },
    {
      "cell_type": "code",
      "source": [
        "# Here we build a simple feedforward neural network to learn the mapping.\n",
        "model = Sequential([\n",
        "    Dense(64, activation='relu', input_shape=(X.shape[1],)),\n",
        "    Dense(64, activation='relu'),\n",
        "    Dense(Y_target.shape[1])  # Output layer with 2 neurons (Pitch_Angle and Yaw_Angle)\n",
        "])\n",
        "\n",
        "model.compile(optimizer=Adam(learning_rate=0.001), loss='mse')\n",
        "model.summary()"
      ],
      "metadata": {
        "colab": {
          "base_uri": "https://localhost:8080/",
          "height": 280
        },
        "id": "iVIzYCrVzdz3",
        "outputId": "cd5056f8-dfc1-4fcd-ebb6-927721b75409"
      },
      "execution_count": 14,
      "outputs": [
        {
          "output_type": "stream",
          "name": "stderr",
          "text": [
            "/usr/local/lib/python3.11/dist-packages/keras/src/layers/core/dense.py:87: UserWarning: Do not pass an `input_shape`/`input_dim` argument to a layer. When using Sequential models, prefer using an `Input(shape)` object as the first layer in the model instead.\n",
            "  super().__init__(activity_regularizer=activity_regularizer, **kwargs)\n"
          ]
        },
        {
          "output_type": "display_data",
          "data": {
            "text/plain": [
              "\u001b[1mModel: \"sequential_1\"\u001b[0m\n"
            ],
            "text/html": [
              "<pre style=\"white-space:pre;overflow-x:auto;line-height:normal;font-family:Menlo,'DejaVu Sans Mono',consolas,'Courier New',monospace\"><span style=\"font-weight: bold\">Model: \"sequential_1\"</span>\n",
              "</pre>\n"
            ]
          },
          "metadata": {}
        },
        {
          "output_type": "display_data",
          "data": {
            "text/plain": [
              "┏━━━━━━━━━━━━━━━━━━━━━━━━━━━━━━━━━━━━━━┳━━━━━━━━━━━━━━━━━━━━━━━━━━━━━┳━━━━━━━━━━━━━━━━━┓\n",
              "┃\u001b[1m \u001b[0m\u001b[1mLayer (type)                        \u001b[0m\u001b[1m \u001b[0m┃\u001b[1m \u001b[0m\u001b[1mOutput Shape               \u001b[0m\u001b[1m \u001b[0m┃\u001b[1m \u001b[0m\u001b[1m        Param #\u001b[0m\u001b[1m \u001b[0m┃\n",
              "┡━━━━━━━━━━━━━━━━━━━━━━━━━━━━━━━━━━━━━━╇━━━━━━━━━━━━━━━━━━━━━━━━━━━━━╇━━━━━━━━━━━━━━━━━┩\n",
              "│ dense_3 (\u001b[38;5;33mDense\u001b[0m)                      │ (\u001b[38;5;45mNone\u001b[0m, \u001b[38;5;34m64\u001b[0m)                  │           \u001b[38;5;34m1,408\u001b[0m │\n",
              "├──────────────────────────────────────┼─────────────────────────────┼─────────────────┤\n",
              "│ dense_4 (\u001b[38;5;33mDense\u001b[0m)                      │ (\u001b[38;5;45mNone\u001b[0m, \u001b[38;5;34m64\u001b[0m)                  │           \u001b[38;5;34m4,160\u001b[0m │\n",
              "├──────────────────────────────────────┼─────────────────────────────┼─────────────────┤\n",
              "│ dense_5 (\u001b[38;5;33mDense\u001b[0m)                      │ (\u001b[38;5;45mNone\u001b[0m, \u001b[38;5;34m2\u001b[0m)                   │             \u001b[38;5;34m130\u001b[0m │\n",
              "└──────────────────────────────────────┴─────────────────────────────┴─────────────────┘\n"
            ],
            "text/html": [
              "<pre style=\"white-space:pre;overflow-x:auto;line-height:normal;font-family:Menlo,'DejaVu Sans Mono',consolas,'Courier New',monospace\">┏━━━━━━━━━━━━━━━━━━━━━━━━━━━━━━━━━━━━━━┳━━━━━━━━━━━━━━━━━━━━━━━━━━━━━┳━━━━━━━━━━━━━━━━━┓\n",
              "┃<span style=\"font-weight: bold\"> Layer (type)                         </span>┃<span style=\"font-weight: bold\"> Output Shape                </span>┃<span style=\"font-weight: bold\">         Param # </span>┃\n",
              "┡━━━━━━━━━━━━━━━━━━━━━━━━━━━━━━━━━━━━━━╇━━━━━━━━━━━━━━━━━━━━━━━━━━━━━╇━━━━━━━━━━━━━━━━━┩\n",
              "│ dense_3 (<span style=\"color: #0087ff; text-decoration-color: #0087ff\">Dense</span>)                      │ (<span style=\"color: #00d7ff; text-decoration-color: #00d7ff\">None</span>, <span style=\"color: #00af00; text-decoration-color: #00af00\">64</span>)                  │           <span style=\"color: #00af00; text-decoration-color: #00af00\">1,408</span> │\n",
              "├──────────────────────────────────────┼─────────────────────────────┼─────────────────┤\n",
              "│ dense_4 (<span style=\"color: #0087ff; text-decoration-color: #0087ff\">Dense</span>)                      │ (<span style=\"color: #00d7ff; text-decoration-color: #00d7ff\">None</span>, <span style=\"color: #00af00; text-decoration-color: #00af00\">64</span>)                  │           <span style=\"color: #00af00; text-decoration-color: #00af00\">4,160</span> │\n",
              "├──────────────────────────────────────┼─────────────────────────────┼─────────────────┤\n",
              "│ dense_5 (<span style=\"color: #0087ff; text-decoration-color: #0087ff\">Dense</span>)                      │ (<span style=\"color: #00d7ff; text-decoration-color: #00d7ff\">None</span>, <span style=\"color: #00af00; text-decoration-color: #00af00\">2</span>)                   │             <span style=\"color: #00af00; text-decoration-color: #00af00\">130</span> │\n",
              "└──────────────────────────────────────┴─────────────────────────────┴─────────────────┘\n",
              "</pre>\n"
            ]
          },
          "metadata": {}
        },
        {
          "output_type": "display_data",
          "data": {
            "text/plain": [
              "\u001b[1m Total params: \u001b[0m\u001b[38;5;34m5,698\u001b[0m (22.26 KB)\n"
            ],
            "text/html": [
              "<pre style=\"white-space:pre;overflow-x:auto;line-height:normal;font-family:Menlo,'DejaVu Sans Mono',consolas,'Courier New',monospace\"><span style=\"font-weight: bold\"> Total params: </span><span style=\"color: #00af00; text-decoration-color: #00af00\">5,698</span> (22.26 KB)\n",
              "</pre>\n"
            ]
          },
          "metadata": {}
        },
        {
          "output_type": "display_data",
          "data": {
            "text/plain": [
              "\u001b[1m Trainable params: \u001b[0m\u001b[38;5;34m5,698\u001b[0m (22.26 KB)\n"
            ],
            "text/html": [
              "<pre style=\"white-space:pre;overflow-x:auto;line-height:normal;font-family:Menlo,'DejaVu Sans Mono',consolas,'Courier New',monospace\"><span style=\"font-weight: bold\"> Trainable params: </span><span style=\"color: #00af00; text-decoration-color: #00af00\">5,698</span> (22.26 KB)\n",
              "</pre>\n"
            ]
          },
          "metadata": {}
        },
        {
          "output_type": "display_data",
          "data": {
            "text/plain": [
              "\u001b[1m Non-trainable params: \u001b[0m\u001b[38;5;34m0\u001b[0m (0.00 B)\n"
            ],
            "text/html": [
              "<pre style=\"white-space:pre;overflow-x:auto;line-height:normal;font-family:Menlo,'DejaVu Sans Mono',consolas,'Courier New',monospace\"><span style=\"font-weight: bold\"> Non-trainable params: </span><span style=\"color: #00af00; text-decoration-color: #00af00\">0</span> (0.00 B)\n",
              "</pre>\n"
            ]
          },
          "metadata": {}
        }
      ]
    },
    {
      "cell_type": "code",
      "source": [
        "# Train the model\n",
        "history = model.fit(X_train, Y_train, epochs=50, batch_size=32, validation_split=0.1)"
      ],
      "metadata": {
        "colab": {
          "base_uri": "https://localhost:8080/"
        },
        "id": "3OlVRMF5zhlH",
        "outputId": "612fefdd-ad1f-4365-c554-6aa65952816c"
      },
      "execution_count": 15,
      "outputs": [
        {
          "output_type": "stream",
          "name": "stdout",
          "text": [
            "Epoch 1/50\n",
            "\u001b[1m1297/1297\u001b[0m \u001b[32m━━━━━━━━━━━━━━━━━━━━\u001b[0m\u001b[37m\u001b[0m \u001b[1m7s\u001b[0m 4ms/step - loss: 1268.2856 - val_loss: 8.9876\n",
            "Epoch 2/50\n",
            "\u001b[1m1297/1297\u001b[0m \u001b[32m━━━━━━━━━━━━━━━━━━━━\u001b[0m\u001b[37m\u001b[0m \u001b[1m8s\u001b[0m 3ms/step - loss: 8.8081 - val_loss: 3.1348\n",
            "Epoch 3/50\n",
            "\u001b[1m1297/1297\u001b[0m \u001b[32m━━━━━━━━━━━━━━━━━━━━\u001b[0m\u001b[37m\u001b[0m \u001b[1m4s\u001b[0m 3ms/step - loss: 3.6576 - val_loss: 3.4237\n",
            "Epoch 4/50\n",
            "\u001b[1m1297/1297\u001b[0m \u001b[32m━━━━━━━━━━━━━━━━━━━━\u001b[0m\u001b[37m\u001b[0m \u001b[1m3s\u001b[0m 2ms/step - loss: 2.5587 - val_loss: 0.4616\n",
            "Epoch 5/50\n",
            "\u001b[1m1297/1297\u001b[0m \u001b[32m━━━━━━━━━━━━━━━━━━━━\u001b[0m\u001b[37m\u001b[0m \u001b[1m3s\u001b[0m 3ms/step - loss: 2.6606 - val_loss: 2.3005\n",
            "Epoch 6/50\n",
            "\u001b[1m1297/1297\u001b[0m \u001b[32m━━━━━━━━━━━━━━━━━━━━\u001b[0m\u001b[37m\u001b[0m \u001b[1m7s\u001b[0m 4ms/step - loss: 2.5906 - val_loss: 0.5864\n",
            "Epoch 7/50\n",
            "\u001b[1m1297/1297\u001b[0m \u001b[32m━━━━━━━━━━━━━━━━━━━━\u001b[0m\u001b[37m\u001b[0m \u001b[1m4s\u001b[0m 3ms/step - loss: 2.4987 - val_loss: 3.4460\n",
            "Epoch 8/50\n",
            "\u001b[1m1297/1297\u001b[0m \u001b[32m━━━━━━━━━━━━━━━━━━━━\u001b[0m\u001b[37m\u001b[0m \u001b[1m6s\u001b[0m 4ms/step - loss: 2.0121 - val_loss: 1.4072\n",
            "Epoch 9/50\n",
            "\u001b[1m1297/1297\u001b[0m \u001b[32m━━━━━━━━━━━━━━━━━━━━\u001b[0m\u001b[37m\u001b[0m \u001b[1m5s\u001b[0m 4ms/step - loss: 1.8234 - val_loss: 14.4404\n",
            "Epoch 10/50\n",
            "\u001b[1m1297/1297\u001b[0m \u001b[32m━━━━━━━━━━━━━━━━━━━━\u001b[0m\u001b[37m\u001b[0m \u001b[1m6s\u001b[0m 4ms/step - loss: 1.7293 - val_loss: 0.3153\n",
            "Epoch 11/50\n",
            "\u001b[1m1297/1297\u001b[0m \u001b[32m━━━━━━━━━━━━━━━━━━━━\u001b[0m\u001b[37m\u001b[0m \u001b[1m6s\u001b[0m 5ms/step - loss: 1.3009 - val_loss: 1.1069\n",
            "Epoch 12/50\n",
            "\u001b[1m1297/1297\u001b[0m \u001b[32m━━━━━━━━━━━━━━━━━━━━\u001b[0m\u001b[37m\u001b[0m \u001b[1m5s\u001b[0m 4ms/step - loss: 1.1224 - val_loss: 0.5203\n",
            "Epoch 13/50\n",
            "\u001b[1m1297/1297\u001b[0m \u001b[32m━━━━━━━━━━━━━━━━━━━━\u001b[0m\u001b[37m\u001b[0m \u001b[1m6s\u001b[0m 4ms/step - loss: 1.1843 - val_loss: 1.1546\n",
            "Epoch 14/50\n",
            "\u001b[1m1297/1297\u001b[0m \u001b[32m━━━━━━━━━━━━━━━━━━━━\u001b[0m\u001b[37m\u001b[0m \u001b[1m5s\u001b[0m 3ms/step - loss: 1.0460 - val_loss: 0.0999\n",
            "Epoch 15/50\n",
            "\u001b[1m1297/1297\u001b[0m \u001b[32m━━━━━━━━━━━━━━━━━━━━\u001b[0m\u001b[37m\u001b[0m \u001b[1m4s\u001b[0m 3ms/step - loss: 0.9327 - val_loss: 1.7752\n",
            "Epoch 16/50\n",
            "\u001b[1m1297/1297\u001b[0m \u001b[32m━━━━━━━━━━━━━━━━━━━━\u001b[0m\u001b[37m\u001b[0m \u001b[1m7s\u001b[0m 4ms/step - loss: 0.8097 - val_loss: 0.9586\n",
            "Epoch 17/50\n",
            "\u001b[1m1297/1297\u001b[0m \u001b[32m━━━━━━━━━━━━━━━━━━━━\u001b[0m\u001b[37m\u001b[0m \u001b[1m4s\u001b[0m 3ms/step - loss: 0.7503 - val_loss: 0.4920\n",
            "Epoch 18/50\n",
            "\u001b[1m1297/1297\u001b[0m \u001b[32m━━━━━━━━━━━━━━━━━━━━\u001b[0m\u001b[37m\u001b[0m \u001b[1m8s\u001b[0m 5ms/step - loss: 0.6414 - val_loss: 0.7573\n",
            "Epoch 19/50\n",
            "\u001b[1m1297/1297\u001b[0m \u001b[32m━━━━━━━━━━━━━━━━━━━━\u001b[0m\u001b[37m\u001b[0m \u001b[1m7s\u001b[0m 3ms/step - loss: 0.6263 - val_loss: 0.2756\n",
            "Epoch 20/50\n",
            "\u001b[1m1297/1297\u001b[0m \u001b[32m━━━━━━━━━━━━━━━━━━━━\u001b[0m\u001b[37m\u001b[0m \u001b[1m5s\u001b[0m 4ms/step - loss: 0.5608 - val_loss: 0.4919\n",
            "Epoch 21/50\n",
            "\u001b[1m1297/1297\u001b[0m \u001b[32m━━━━━━━━━━━━━━━━━━━━\u001b[0m\u001b[37m\u001b[0m \u001b[1m4s\u001b[0m 3ms/step - loss: 0.4795 - val_loss: 0.1947\n",
            "Epoch 22/50\n",
            "\u001b[1m1297/1297\u001b[0m \u001b[32m━━━━━━━━━━━━━━━━━━━━\u001b[0m\u001b[37m\u001b[0m \u001b[1m5s\u001b[0m 3ms/step - loss: 0.4725 - val_loss: 0.3014\n",
            "Epoch 23/50\n",
            "\u001b[1m1297/1297\u001b[0m \u001b[32m━━━━━━━━━━━━━━━━━━━━\u001b[0m\u001b[37m\u001b[0m \u001b[1m7s\u001b[0m 4ms/step - loss: 0.4207 - val_loss: 0.3494\n",
            "Epoch 24/50\n",
            "\u001b[1m1297/1297\u001b[0m \u001b[32m━━━━━━━━━━━━━━━━━━━━\u001b[0m\u001b[37m\u001b[0m \u001b[1m3s\u001b[0m 3ms/step - loss: 0.3675 - val_loss: 0.3865\n",
            "Epoch 25/50\n",
            "\u001b[1m1297/1297\u001b[0m \u001b[32m━━━━━━━━━━━━━━━━━━━━\u001b[0m\u001b[37m\u001b[0m \u001b[1m6s\u001b[0m 3ms/step - loss: 0.4071 - val_loss: 0.0895\n",
            "Epoch 26/50\n",
            "\u001b[1m1297/1297\u001b[0m \u001b[32m━━━━━━━━━━━━━━━━━━━━\u001b[0m\u001b[37m\u001b[0m \u001b[1m4s\u001b[0m 3ms/step - loss: 0.3614 - val_loss: 0.9898\n",
            "Epoch 27/50\n",
            "\u001b[1m1297/1297\u001b[0m \u001b[32m━━━━━━━━━━━━━━━━━━━━\u001b[0m\u001b[37m\u001b[0m \u001b[1m5s\u001b[0m 4ms/step - loss: 0.3366 - val_loss: 0.1733\n",
            "Epoch 28/50\n",
            "\u001b[1m1297/1297\u001b[0m \u001b[32m━━━━━━━━━━━━━━━━━━━━\u001b[0m\u001b[37m\u001b[0m \u001b[1m6s\u001b[0m 4ms/step - loss: 0.3272 - val_loss: 0.2821\n",
            "Epoch 29/50\n",
            "\u001b[1m1297/1297\u001b[0m \u001b[32m━━━━━━━━━━━━━━━━━━━━\u001b[0m\u001b[37m\u001b[0m \u001b[1m5s\u001b[0m 3ms/step - loss: 0.2805 - val_loss: 0.5308\n",
            "Epoch 30/50\n",
            "\u001b[1m1297/1297\u001b[0m \u001b[32m━━━━━━━━━━━━━━━━━━━━\u001b[0m\u001b[37m\u001b[0m \u001b[1m5s\u001b[0m 4ms/step - loss: 0.2792 - val_loss: 0.1262\n",
            "Epoch 31/50\n",
            "\u001b[1m1297/1297\u001b[0m \u001b[32m━━━━━━━━━━━━━━━━━━━━\u001b[0m\u001b[37m\u001b[0m \u001b[1m4s\u001b[0m 3ms/step - loss: 0.2685 - val_loss: 0.2798\n",
            "Epoch 32/50\n",
            "\u001b[1m1297/1297\u001b[0m \u001b[32m━━━━━━━━━━━━━━━━━━━━\u001b[0m\u001b[37m\u001b[0m \u001b[1m4s\u001b[0m 3ms/step - loss: 0.2581 - val_loss: 0.0789\n",
            "Epoch 33/50\n",
            "\u001b[1m1297/1297\u001b[0m \u001b[32m━━━━━━━━━━━━━━━━━━━━\u001b[0m\u001b[37m\u001b[0m \u001b[1m6s\u001b[0m 4ms/step - loss: 0.2173 - val_loss: 0.3003\n",
            "Epoch 34/50\n",
            "\u001b[1m1297/1297\u001b[0m \u001b[32m━━━━━━━━━━━━━━━━━━━━\u001b[0m\u001b[37m\u001b[0m \u001b[1m4s\u001b[0m 3ms/step - loss: 0.1913 - val_loss: 0.0434\n",
            "Epoch 35/50\n",
            "\u001b[1m1297/1297\u001b[0m \u001b[32m━━━━━━━━━━━━━━━━━━━━\u001b[0m\u001b[37m\u001b[0m \u001b[1m5s\u001b[0m 3ms/step - loss: 0.2123 - val_loss: 0.2112\n",
            "Epoch 36/50\n",
            "\u001b[1m1297/1297\u001b[0m \u001b[32m━━━━━━━━━━━━━━━━━━━━\u001b[0m\u001b[37m\u001b[0m \u001b[1m6s\u001b[0m 4ms/step - loss: 0.1830 - val_loss: 0.3514\n",
            "Epoch 37/50\n",
            "\u001b[1m1297/1297\u001b[0m \u001b[32m━━━━━━━━━━━━━━━━━━━━\u001b[0m\u001b[37m\u001b[0m \u001b[1m5s\u001b[0m 4ms/step - loss: 0.1819 - val_loss: 0.0843\n",
            "Epoch 38/50\n",
            "\u001b[1m1297/1297\u001b[0m \u001b[32m━━━━━━━━━━━━━━━━━━━━\u001b[0m\u001b[37m\u001b[0m \u001b[1m10s\u001b[0m 4ms/step - loss: 0.1704 - val_loss: 0.1890\n",
            "Epoch 39/50\n",
            "\u001b[1m1297/1297\u001b[0m \u001b[32m━━━━━━━━━━━━━━━━━━━━\u001b[0m\u001b[37m\u001b[0m \u001b[1m5s\u001b[0m 3ms/step - loss: 0.1705 - val_loss: 0.1317\n",
            "Epoch 40/50\n",
            "\u001b[1m1297/1297\u001b[0m \u001b[32m━━━━━━━━━━━━━━━━━━━━\u001b[0m\u001b[37m\u001b[0m \u001b[1m5s\u001b[0m 4ms/step - loss: 0.1520 - val_loss: 0.0842\n",
            "Epoch 41/50\n",
            "\u001b[1m1297/1297\u001b[0m \u001b[32m━━━━━━━━━━━━━━━━━━━━\u001b[0m\u001b[37m\u001b[0m \u001b[1m4s\u001b[0m 3ms/step - loss: 0.1709 - val_loss: 1.3248\n",
            "Epoch 42/50\n",
            "\u001b[1m1297/1297\u001b[0m \u001b[32m━━━━━━━━━━━━━━━━━━━━\u001b[0m\u001b[37m\u001b[0m \u001b[1m6s\u001b[0m 4ms/step - loss: 0.1575 - val_loss: 0.2425\n",
            "Epoch 43/50\n",
            "\u001b[1m1297/1297\u001b[0m \u001b[32m━━━━━━━━━━━━━━━━━━━━\u001b[0m\u001b[37m\u001b[0m \u001b[1m8s\u001b[0m 3ms/step - loss: 0.1319 - val_loss: 0.4232\n",
            "Epoch 44/50\n",
            "\u001b[1m1297/1297\u001b[0m \u001b[32m━━━━━━━━━━━━━━━━━━━━\u001b[0m\u001b[37m\u001b[0m \u001b[1m5s\u001b[0m 4ms/step - loss: 0.1309 - val_loss: 0.1924\n",
            "Epoch 45/50\n",
            "\u001b[1m1297/1297\u001b[0m \u001b[32m━━━━━━━━━━━━━━━━━━━━\u001b[0m\u001b[37m\u001b[0m \u001b[1m4s\u001b[0m 3ms/step - loss: 0.1252 - val_loss: 0.0521\n",
            "Epoch 46/50\n",
            "\u001b[1m1297/1297\u001b[0m \u001b[32m━━━━━━━━━━━━━━━━━━━━\u001b[0m\u001b[37m\u001b[0m \u001b[1m5s\u001b[0m 4ms/step - loss: 0.1199 - val_loss: 0.1031\n",
            "Epoch 47/50\n",
            "\u001b[1m1297/1297\u001b[0m \u001b[32m━━━━━━━━━━━━━━━━━━━━\u001b[0m\u001b[37m\u001b[0m \u001b[1m5s\u001b[0m 4ms/step - loss: 0.1212 - val_loss: 0.0967\n",
            "Epoch 48/50\n",
            "\u001b[1m1297/1297\u001b[0m \u001b[32m━━━━━━━━━━━━━━━━━━━━\u001b[0m\u001b[37m\u001b[0m \u001b[1m5s\u001b[0m 3ms/step - loss: 0.1145 - val_loss: 0.0423\n",
            "Epoch 49/50\n",
            "\u001b[1m1297/1297\u001b[0m \u001b[32m━━━━━━━━━━━━━━━━━━━━\u001b[0m\u001b[37m\u001b[0m \u001b[1m5s\u001b[0m 3ms/step - loss: 0.1169 - val_loss: 0.0300\n",
            "Epoch 50/50\n",
            "\u001b[1m1297/1297\u001b[0m \u001b[32m━━━━━━━━━━━━━━━━━━━━\u001b[0m\u001b[37m\u001b[0m \u001b[1m6s\u001b[0m 4ms/step - loss: 0.1023 - val_loss: 0.0432\n"
          ]
        }
      ]
    },
    {
      "cell_type": "markdown",
      "source": [
        "## 5. Evaluate the Model"
      ],
      "metadata": {
        "id": "wph1CBDb0dUy"
      }
    },
    {
      "cell_type": "code",
      "source": [
        "test_loss = model.evaluate(X_test, Y_test)\n",
        "print(\"\\nTest Loss:\", test_loss)"
      ],
      "metadata": {
        "colab": {
          "base_uri": "https://localhost:8080/"
        },
        "id": "nsv7npIO0mDD",
        "outputId": "76b1f176-1457-4ef5-e5b7-cb9671e8d8f0"
      },
      "execution_count": 16,
      "outputs": [
        {
          "output_type": "stream",
          "name": "stdout",
          "text": [
            "\u001b[1m361/361\u001b[0m \u001b[32m━━━━━━━━━━━━━━━━━━━━\u001b[0m\u001b[37m\u001b[0m \u001b[1m1s\u001b[0m 2ms/step - loss: 0.0396\n",
            "\n",
            "Test Loss: 0.03914488106966019\n"
          ]
        }
      ]
    },
    {
      "cell_type": "code",
      "source": [
        "# Plot training and validation loss\n",
        "plt.figure(figsize=(8,5))\n",
        "plt.plot(history.history['loss'], label='Train Loss')\n",
        "plt.plot(history.history['val_loss'], label='Validation Loss')\n",
        "plt.xlabel('Epoch')\n",
        "plt.ylabel('Mean Squared Error')\n",
        "plt.title('Training vs. Validation Loss')\n",
        "plt.legend()\n",
        "plt.show()"
      ],
      "metadata": {
        "colab": {
          "base_uri": "https://localhost:8080/",
          "height": 487
        },
        "id": "Ak3X82-g0qsq",
        "outputId": "db32e94b-7f7b-4b04-816f-20f5c8a0d701"
      },
      "execution_count": 17,
      "outputs": [
        {
          "output_type": "display_data",
          "data": {
            "text/plain": [
              "<Figure size 800x500 with 1 Axes>"
            ],
            "image/png": "[encoded data removed]"
          },
          "metadata": {}
        }
      ]
    },
    {
      "cell_type": "code",
      "source": [
        "model.save('narx_model.h5')"
      ],
      "metadata": {
        "colab": {
          "base_uri": "https://localhost:8080/"
        },
        "id": "Q7UpBNs11ORH",
        "outputId": "5f5bde1f-bd17-4351-ee5f-ae96d266d615"
      },
      "execution_count": 18,
      "outputs": [
        {
          "output_type": "stream",
          "name": "stderr",
          "text": [
            "WARNING:absl:You are saving your model as an HDF5 file via `model.save()` or `keras.saving.save_model(model)`. This file format is considered legacy. We recommend using instead the native Keras format, e.g. `model.save('my_model.keras')` or `keras.saving.save_model(model, 'my_model.keras')`. \n"
          ]
        }
      ]
    }
  ]
}